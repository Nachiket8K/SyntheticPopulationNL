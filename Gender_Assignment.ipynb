{
 "cells": [
  {
   "cell_type": "markdown",
   "id": "60d8181e",
   "metadata": {},
   "source": [
    "### Assignment of Gender to the Syntehtic Population"
   ]
  },
  {
   "cell_type": "markdown",
   "id": "2332679b",
   "metadata": {},
   "source": [
    "Beware ye that searced for 'Gender Assignment' that ye shall not find waht you are looking for. Here I play God for my synthetic population. Now, let's get on with the scheduled program. (I will not be apologising for that pun.)"
   ]
  },
  {
   "cell_type": "markdown",
   "id": "ec82bbeb",
   "metadata": {},
   "source": [
    "Now, this notebook covers the code, choices and logic behind assigning gender to a synthetic population of agents for the city of Den Haag. The source data for this notebook is from https://denhaag.incijfers.nl/viewer"
   ]
  },
  {
   "cell_type": "markdown",
   "id": "c9b5fa21",
   "metadata": {},
   "source": [
    "We begin by importing the required libraries for this process."
   ]
  },
  {
   "cell_type": "code",
   "execution_count": 1,
   "id": "dfd6c61e",
   "metadata": {},
   "outputs": [],
   "source": [
    "import numpy as np\n",
    "import pandas as pd\n",
    "np.random.seed(42)\n",
    "import matplotlib.pyplot as plt\n",
    "import seaborn as sns\n",
    "import os\n",
    "import sys\n"
   ]
  },
  {
   "cell_type": "markdown",
   "id": "141d4384",
   "metadata": {},
   "source": [
    "Now we import the raw data file that has been downloaded as an Excel file from Den Haag in Cijfers website. This dataset focuses on the 21 class division of ages where each age group consists of a 5 year span. "
   ]
  },
  {
   "cell_type": "code",
   "execution_count": null,
   "id": "6e6beeef",
   "metadata": {},
   "outputs": [],
   "source": []
  }
 ],
 "metadata": {
  "kernelspec": {
   "display_name": "Python 3",
   "language": "python",
   "name": "python3"
  },
  "language_info": {
   "codemirror_mode": {
    "name": "ipython",
    "version": 3
   },
   "file_extension": ".py",
   "mimetype": "text/x-python",
   "name": "python",
   "nbconvert_exporter": "python",
   "pygments_lexer": "ipython3",
   "version": "3.12.0"
  }
 },
 "nbformat": 4,
 "nbformat_minor": 5
}
