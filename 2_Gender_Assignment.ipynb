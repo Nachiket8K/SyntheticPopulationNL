{
 "cells": [
  {
   "cell_type": "markdown",
   "id": "60d8181e",
   "metadata": {},
   "source": [
    "### Assignment of Gender to the Syntehtic Population"
   ]
  },
  {
   "cell_type": "markdown",
   "id": "2332679b",
   "metadata": {},
   "source": [
    "Beware ye that searced for 'Gender Assignment' that ye shall not find waht you are looking for. Here I play God for my synthetic population. Now, let's get on with the scheduled program. (I will not be apologising for that pun.)"
   ]
  },
  {
   "cell_type": "markdown",
   "id": "ec82bbeb",
   "metadata": {},
   "source": [
    "Now, this notebook covers the code, choices and logic behind assigning gender to a synthetic population of agents for the city of Den Haag. The source data for this notebook is from https://denhaag.incijfers.nl/viewer"
   ]
  },
  {
   "cell_type": "markdown",
   "id": "c9b5fa21",
   "metadata": {},
   "source": [
    "We begin by importing the required libraries for this process."
   ]
  },
  {
   "cell_type": "code",
   "execution_count": 15,
   "id": "dfd6c61e",
   "metadata": {},
   "outputs": [],
   "source": [
    "import numpy as np\n",
    "import pandas as pd\n",
    "np.random.seed(42)\n",
    "import matplotlib.pyplot as plt\n",
    "import seaborn as sns\n",
    "import os\n",
    "import sys\n"
   ]
  },
  {
   "cell_type": "markdown",
   "id": "141d4384",
   "metadata": {},
   "source": [
    "Now we import the raw data file that has been downloaded as an Excel file from Den Haag in Cijfers website. This dataset focuses on only the 2 gender division. Since this is how the source data chooses to classify gender, we will adhere to this system. \n",
    "\n",
    "While simpler and easier for me to code, it is important to expect edge cases and prepare for their inclusion. I won't be doing it in this case, but needs to be noted in future expansions. "
   ]
  },
  {
   "cell_type": "code",
   "execution_count": 16,
   "id": "6e6beeef",
   "metadata": {},
   "outputs": [
    {
     "data": {
      "text/html": [
       "<div>\n",
       "<style scoped>\n",
       "    .dataframe tbody tr th:only-of-type {\n",
       "        vertical-align: middle;\n",
       "    }\n",
       "\n",
       "    .dataframe tbody tr th {\n",
       "        vertical-align: top;\n",
       "    }\n",
       "\n",
       "    .dataframe thead th {\n",
       "        text-align: right;\n",
       "    }\n",
       "</style>\n",
       "<table border=\"1\" class=\"dataframe\">\n",
       "  <thead>\n",
       "    <tr style=\"text-align: right;\">\n",
       "      <th></th>\n",
       "      <th>Neighbourhood</th>\n",
       "      <th>Number of residents per 1-1</th>\n",
       "      <th>Gender: male</th>\n",
       "      <th>Gender: female</th>\n",
       "    </tr>\n",
       "  </thead>\n",
       "  <tbody>\n",
       "    <tr>\n",
       "      <th>0</th>\n",
       "      <td>Oud Scheveningen</td>\n",
       "      <td>2925</td>\n",
       "      <td>1455</td>\n",
       "      <td>1470</td>\n",
       "    </tr>\n",
       "    <tr>\n",
       "      <th>1</th>\n",
       "      <td>Vissershaven</td>\n",
       "      <td>4894</td>\n",
       "      <td>2350</td>\n",
       "      <td>2544</td>\n",
       "    </tr>\n",
       "    <tr>\n",
       "      <th>2</th>\n",
       "      <td>Scheveningen Badplaats</td>\n",
       "      <td>5656</td>\n",
       "      <td>2768</td>\n",
       "      <td>2888</td>\n",
       "    </tr>\n",
       "    <tr>\n",
       "      <th>3</th>\n",
       "      <td>Visserijbuurt</td>\n",
       "      <td>4107</td>\n",
       "      <td>1928</td>\n",
       "      <td>2179</td>\n",
       "    </tr>\n",
       "    <tr>\n",
       "      <th>4</th>\n",
       "      <td>v Stolkpark/Schev Bosjes</td>\n",
       "      <td>795</td>\n",
       "      <td>384</td>\n",
       "      <td>411</td>\n",
       "    </tr>\n",
       "  </tbody>\n",
       "</table>\n",
       "</div>"
      ],
      "text/plain": [
       "0             Neighbourhood Number of residents per 1-1 Gender: male  \\\n",
       "0          Oud Scheveningen                        2925         1455   \n",
       "1              Vissershaven                        4894         2350   \n",
       "2    Scheveningen Badplaats                        5656         2768   \n",
       "3             Visserijbuurt                        4107         1928   \n",
       "4  v Stolkpark/Schev Bosjes                         795          384   \n",
       "\n",
       "0 Gender: female  \n",
       "0           1470  \n",
       "1           2544  \n",
       "2           2888  \n",
       "3           2179  \n",
       "4            411  "
      ]
     },
     "execution_count": 16,
     "metadata": {},
     "output_type": "execute_result"
    }
   ],
   "source": [
    "df_counts = pd.read_excel(\"Demographics/gender_raw_data.xlsx\", header=0)\n",
    "df_counts.columns = df_counts.iloc[0]  # Set first row as header\n",
    "df_counts = df_counts.iloc[1:].reset_index(drop=True)  # Remove the first row from data\n",
    "df_counts = df_counts.rename(columns={df_counts.columns[0]: \"Neighbourhood\"})\n",
    "df_counts.head()"
   ]
  },
  {
   "cell_type": "code",
   "execution_count": 17,
   "id": "6b56ba02",
   "metadata": {},
   "outputs": [
    {
     "name": "stdout",
     "output_type": "stream",
     "text": [
      "569387\n",
      "283959\n",
      "285428\n",
      "569387.0\n"
     ]
    }
   ],
   "source": [
    "num_agents =  df_counts[\"Number of residents per 1-1\"].sum()\n",
    "print(num_agents)\n",
    "num_agents =  df_counts[\"Gender: male\"].sum()\n",
    "print(num_agents)\n",
    "num_agents =  df_counts[\"Gender: female\"].sum()\n",
    "print(num_agents)\n",
    "num_agents = df_counts[\"Gender: male\"].astype(float).sum() + df_counts[\"Gender: female\"].astype(float).sum()\n",
    "print(num_agents)"
   ]
  },
  {
   "cell_type": "markdown",
   "id": "07d2ac19",
   "metadata": {},
   "source": [
    "Fortunately this time, we have every single person being accounted for. However a quick check for NaN values is a must"
   ]
  },
  {
   "cell_type": "code",
   "execution_count": 18,
   "id": "f0d6fe4f",
   "metadata": {},
   "outputs": [
    {
     "name": "stdout",
     "output_type": "stream",
     "text": [
      "0\n",
      "Neighbourhood                  0\n",
      "Number of residents per 1-1    3\n",
      "Gender: male                   3\n",
      "Gender: female                 3\n",
      "dtype: int64\n"
     ]
    }
   ],
   "source": [
    "# Check for NaN values in all columns\n",
    "print(df_counts.isna().sum())"
   ]
  },
  {
   "cell_type": "markdown",
   "id": "2240ee0e",
   "metadata": {},
   "source": [
    "Okay, since we have no missing people we can safely set these values to 0 and move on with this section. "
   ]
  },
  {
   "cell_type": "code",
   "execution_count": 19,
   "id": "de0176eb",
   "metadata": {},
   "outputs": [
    {
     "name": "stdout",
     "output_type": "stream",
     "text": [
      "0\n",
      "Neighbourhood                  0\n",
      "Number of residents per 1-1    0\n",
      "Gender: male                   0\n",
      "Gender: female                 0\n",
      "dtype: int64\n"
     ]
    },
    {
     "name": "stderr",
     "output_type": "stream",
     "text": [
      "C:\\Users\\nachi\\AppData\\Local\\Temp\\ipykernel_20748\\3913859920.py:1: FutureWarning: Downcasting object dtype arrays on .fillna, .ffill, .bfill is deprecated and will change in a future version. Call result.infer_objects(copy=False) instead. To opt-in to the future behavior, set `pd.set_option('future.no_silent_downcasting', True)`\n",
      "  df_counts = df_counts.fillna(0)\n"
     ]
    }
   ],
   "source": [
    "df_counts = df_counts.fillna(0)\n",
    "print(df_counts.isna().sum())"
   ]
  },
  {
   "cell_type": "markdown",
   "id": "62758a87",
   "metadata": {},
   "source": [
    "Now that the data has been cleaned, we can move towards the step for assigning gender to the agents. "
   ]
  },
  {
   "cell_type": "code",
   "execution_count": 20,
   "id": "4a2ef072",
   "metadata": {},
   "outputs": [
    {
     "name": "stdout",
     "output_type": "stream",
     "text": [
      "Number of NaN genders assigned: 0\n"
     ]
    },
    {
     "data": {
      "text/html": [
       "<div>\n",
       "<style scoped>\n",
       "    .dataframe tbody tr th:only-of-type {\n",
       "        vertical-align: middle;\n",
       "    }\n",
       "\n",
       "    .dataframe tbody tr th {\n",
       "        vertical-align: top;\n",
       "    }\n",
       "\n",
       "    .dataframe thead th {\n",
       "        text-align: right;\n",
       "    }\n",
       "</style>\n",
       "<table border=\"1\" class=\"dataframe\">\n",
       "  <thead>\n",
       "    <tr style=\"text-align: right;\">\n",
       "      <th></th>\n",
       "      <th>Individual_ID</th>\n",
       "      <th>neighbourhood</th>\n",
       "      <th>Age</th>\n",
       "      <th>Gender</th>\n",
       "    </tr>\n",
       "  </thead>\n",
       "  <tbody>\n",
       "    <tr>\n",
       "      <th>0</th>\n",
       "      <td>447607</td>\n",
       "      <td>Oud Scheveningen</td>\n",
       "      <td>70</td>\n",
       "      <td>female</td>\n",
       "    </tr>\n",
       "    <tr>\n",
       "      <th>1</th>\n",
       "      <td>515489</td>\n",
       "      <td>Oud Scheveningen</td>\n",
       "      <td>2</td>\n",
       "      <td>male</td>\n",
       "    </tr>\n",
       "    <tr>\n",
       "      <th>2</th>\n",
       "      <td>133483</td>\n",
       "      <td>Oud Scheveningen</td>\n",
       "      <td>31</td>\n",
       "      <td>male</td>\n",
       "    </tr>\n",
       "    <tr>\n",
       "      <th>3</th>\n",
       "      <td>130686</td>\n",
       "      <td>Oud Scheveningen</td>\n",
       "      <td>20</td>\n",
       "      <td>male</td>\n",
       "    </tr>\n",
       "    <tr>\n",
       "      <th>4</th>\n",
       "      <td>499841</td>\n",
       "      <td>Oud Scheveningen</td>\n",
       "      <td>79</td>\n",
       "      <td>female</td>\n",
       "    </tr>\n",
       "  </tbody>\n",
       "</table>\n",
       "</div>"
      ],
      "text/plain": [
       "   Individual_ID     neighbourhood  Age  Gender\n",
       "0         447607  Oud Scheveningen   70  female\n",
       "1         515489  Oud Scheveningen    2    male\n",
       "2         133483  Oud Scheveningen   31    male\n",
       "3         130686  Oud Scheveningen   20    male\n",
       "4         499841  Oud Scheveningen   79  female"
      ]
     },
     "execution_count": 20,
     "metadata": {},
     "output_type": "execute_result"
    }
   ],
   "source": [
    "import pandas as pd\n",
    "import numpy as np\n",
    "import random\n",
    "\n",
    "# Set the random seed for reproducibility\n",
    "random.seed(42)\n",
    "\n",
    "# Read in the agents file\n",
    "agents = pd.read_csv('agents.csv')\n",
    "\n",
    "# Read in the gender distribution data (make sure the file path and column names match your data)\n",
    "gender_df = df_counts\n",
    "\n",
    "# Prepare to assign gender\n",
    "genders = []\n",
    "\n",
    "for _, agent in agents.iterrows():\n",
    "    neighbourhood = agent['neighbourhood']\n",
    "    # Get the row in gender_df corresponding to the agent's neighbourhood\n",
    "    neighbourhood_row = gender_df[gender_df['Neighbourhood'] == neighbourhood]\n",
    "    if neighbourhood_row.empty:\n",
    "        # If neighbourhood not found, assign NaN or skip\n",
    "        genders.append(np.nan)\n",
    "        continue\n",
    "\n",
    "    # Get counts for male and female\n",
    "    try:\n",
    "        male_count = float(neighbourhood_row['Gender: male'].values[0])\n",
    "    except (KeyError, IndexError, ValueError):\n",
    "        male_count = 0\n",
    "    try:\n",
    "        female_count = float(neighbourhood_row['Gender: female'].values[0])\n",
    "    except (KeyError, IndexError, ValueError):\n",
    "        female_count = 0\n",
    "\n",
    "    total = male_count + female_count\n",
    "    if total == 0:\n",
    "        genders.append(np.nan)\n",
    "        continue\n",
    "\n",
    "    # Assign gender based on the neighbourhood's composition\n",
    "    gender = random.choices(\n",
    "        population=['male', 'female'],\n",
    "        weights=[male_count, female_count],\n",
    "        k=1\n",
    "    )[0]\n",
    "    genders.append(gender)\n",
    "\n",
    "# Add the \"Gender\" column to the agents DataFrame\n",
    "agents['Gender'] = genders\n",
    "\n",
    "# Check how many NaNs were assigned\n",
    "print(\"Number of NaN genders assigned:\", agents['Gender'].isna().sum())\n",
    "\n",
    "# Preview the result\n",
    "agents.head()"
   ]
  },
  {
   "cell_type": "code",
   "execution_count": 21,
   "id": "a680bd03",
   "metadata": {},
   "outputs": [],
   "source": [
    "df_counts.to_csv('Demographics/gender_cleaned.csv', index=False)\n",
    "agents.to_csv('agents.csv', index=False)"
   ]
  },
  {
   "cell_type": "markdown",
   "id": "31cc30a3",
   "metadata": {},
   "source": [
    "And that concludes a rather anticlimactic step in this process"
   ]
  },
  {
   "cell_type": "markdown",
   "id": "e71a9fa4",
   "metadata": {},
   "source": []
  }
 ],
 "metadata": {
  "kernelspec": {
   "display_name": "Python 3",
   "language": "python",
   "name": "python3"
  },
  "language_info": {
   "codemirror_mode": {
    "name": "ipython",
    "version": 3
   },
   "file_extension": ".py",
   "mimetype": "text/x-python",
   "name": "python",
   "nbconvert_exporter": "python",
   "pygments_lexer": "ipython3",
   "version": "3.12.0"
  }
 },
 "nbformat": 4,
 "nbformat_minor": 5
}
